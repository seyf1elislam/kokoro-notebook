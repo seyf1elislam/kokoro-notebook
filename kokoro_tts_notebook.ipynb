{
  "nbformat": 4,
  "nbformat_minor": 0,
  "metadata": {
    "colab": {
      "private_outputs": true,
      "provenance": [],
      "gpuType": "T4",
      "authorship_tag": "ABX9TyPVtOnU2rlTwXHLeAhT8v0K",
      "include_colab_link": true
    },
    "kernelspec": {
      "name": "python3",
      "display_name": "Python 3"
    },
    "language_info": {
      "name": "python"
    },
    "accelerator": "GPU"
  },
  "cells": [
    {
      "cell_type": "markdown",
      "metadata": {
        "id": "view-in-github",
        "colab_type": "text"
      },
      "source": [
        "<a href=\"https://colab.research.google.com/github/seyf1elislam/kokoro-notebook/blob/main/kokoro_tts_notebook.ipynb\" target=\"_parent\"><img src=\"https://colab.research.google.com/assets/colab-badge.svg\" alt=\"Open In Colab\"/></a>"
      ]
    },
    {
      "cell_type": "markdown",
      "source": [
        "This notebook is a simple webui  for TTS genration using [Kokoro](https://huggingface.co/hexgrad/Kokoro-82M)\n",
        "\n",
        "\n",
        "Created by [Seyf1elislam](https://github.com/seyf1elislam)\n",
        "\n",
        "Follow [The Project on Github](https://github.com/seyf1elislam/kokoro-notebook)  For more Updates"
      ],
      "metadata": {
        "id": "2l7CTp18XhB5"
      }
    },
    {
      "cell_type": "code",
      "execution_count": null,
      "metadata": {
        "id": "PUFIuljqiPtg"
      },
      "outputs": [],
      "source": [
        "#@title Repo Requirements\n",
        "!apt-get -qq -y install espeak-ng > /dev/null 2>&1\n",
        "!pip install -q phonemizer torch transformers scipy munch gradio\n",
        "!git clone https://huggingface.co/hexgrad/Kokoro-82M\n",
        "!git clone https://github.com/seyf1elislam/kokoro-notebook"
      ]
    },
    {
      "cell_type": "code",
      "source": [
        "#@title Run The app\n",
        "%cd /content\n",
        "!rm Kokoro-82M/app.py\n",
        "!cp kokoro-notebook/app.py Kokoro-82M/app.py\n",
        "%cd /content/Kokoro-82M\n",
        "!python app.py"
      ],
      "metadata": {
        "id": "ZqnI8iXMrF9L"
      },
      "execution_count": null,
      "outputs": []
    }
  ]
}